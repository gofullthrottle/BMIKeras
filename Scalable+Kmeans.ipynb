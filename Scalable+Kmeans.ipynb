{
 "cells": [
  {
   "cell_type": "markdown",
   "metadata": {},
   "source": [
    "## Kmeans \n"
   ]
  },
  {
   "cell_type": "code",
   "execution_count": 61,
   "metadata": {},
   "outputs": [
    {
     "name": "stdout",
     "output_type": "stream",
     "text": [
      "2999\n"
     ]
    }
   ],
   "source": [
    "import pandas as pd\n",
    "import numpy as np\n",
    "df = pd.read_table('xclara.csv', sep=',')\n",
    "df = np.array(df)\n",
    "print (len(df))"
   ]
  },
  {
   "cell_type": "code",
   "execution_count": 67,
   "metadata": {
    "collapsed": true
   },
   "outputs": [],
   "source": [
    "#Distance Function\n",
    "def distance_cal (data, centres):\n",
    "    \"\"\" \n",
    "    Calculate distance from data to each center\n",
    "    Input: \n",
    "    data n * d\n",
    "    centers k*d  #panda data frame\n",
    "    \"\"\"\n",
    "    #print(np.shape(centres))\n",
    "    n = np.shape(data)[0]\n",
    "    k = np.shape(centres)[0]\n",
    "    \n",
    "    #print('k')\n",
    "    dist = np.zeros(shape=(n,k))\n",
    "    for l1 in range(0,n):\n",
    "        for l2 in range(0,k):\n",
    "            dist[l1][l2] = np.linalg.norm((np.array(data[l1])- np.array(centres[l2]))**2)\n",
    "    return dist"
   ]
  },
  {
   "cell_type": "code",
   "execution_count": 68,
   "metadata": {},
   "outputs": [],
   "source": [
    "def k_means(data, centres, k):\n",
    "    \"\"\"\n",
    "    Kmeans algorihtm \n",
    "    input data\n",
    "    output: new clusters, centres\n",
    "    \n",
    "    \"\"\"\n",
    "    n = data.shape[0]\n",
    "    epochs = 1000\n",
    "    for epoch in range(0,epochs):\n",
    "        #calculated distances\n",
    "        dist = distance_cal (data, centres)\n",
    "        #assign cluster labels\n",
    "        cluster_labels = np.argmin(dist, axis = 1) # n*1\n",
    "        #new centroids\n",
    "        centres_updates = np.zeros(shape = centres.shape) \n",
    "        for j in range(0, k):\n",
    "            if sum(cluster_labels == j) == 0:\n",
    "                centres_updates[j] = centres[j]\n",
    "            else:\n",
    "                centres_updates[j] = np.mean(data[cluster_labels == j, :], axis=0)\n",
    "    "
   ]
  },
  {
   "cell_type": "markdown",
   "metadata": {},
   "source": [
    "### Random Intialization"
   ]
  },
  {
   "cell_type": "code",
   "execution_count": 71,
   "metadata": {},
   "outputs": [
    {
     "ename": "AttributeError",
     "evalue": "'NoneType' object has no attribute 'head'",
     "output_type": "error",
     "traceback": [
      "\u001b[1;31m---------------------------------------------------------------------------\u001b[0m",
      "\u001b[1;31mAttributeError\u001b[0m                            Traceback (most recent call last)",
      "\u001b[1;32m<ipython-input-71-66fbe3c62910>\u001b[0m in \u001b[0;36m<module>\u001b[1;34m()\u001b[0m\n\u001b[0;32m      5\u001b[0m \u001b[1;31m#print(Rcentroids_initial)\u001b[0m\u001b[1;33m\u001b[0m\u001b[1;33m\u001b[0m\u001b[0m\n\u001b[0;32m      6\u001b[0m \u001b[0mRoutput_k\u001b[0m \u001b[1;33m=\u001b[0m \u001b[0mk_means\u001b[0m\u001b[1;33m(\u001b[0m\u001b[0mdf\u001b[0m\u001b[1;33m,\u001b[0m \u001b[0mRcentroids_initial\u001b[0m\u001b[1;33m,\u001b[0m\u001b[0mk\u001b[0m\u001b[1;33m)\u001b[0m\u001b[1;33m\u001b[0m\u001b[0m\n\u001b[1;32m----> 7\u001b[1;33m \u001b[0mprint\u001b[0m\u001b[1;33m(\u001b[0m\u001b[0mRoutput_k\u001b[0m\u001b[1;33m.\u001b[0m\u001b[0mhead\u001b[0m\u001b[1;33m(\u001b[0m\u001b[1;33m)\u001b[0m\u001b[1;33m)\u001b[0m\u001b[1;33m\u001b[0m\u001b[0m\n\u001b[0m",
      "\u001b[1;31mAttributeError\u001b[0m: 'NoneType' object has no attribute 'head'"
     ]
    }
   ],
   "source": [
    "k = 3\n",
    "Rcentroids_initial = df[np.random.choice(range(df.shape[0]), k, replace=False),:]\n",
    "#print(df.shape[0])\n",
    "#print(np.shape(Rcentroids_initial)[0])\n",
    "#print(Rcentroids_initial)\n",
    "Routput_k = k_means(df, Rcentroids_initial,k)\n"
   ]
  },
  {
   "cell_type": "code",
   "execution_count": null,
   "metadata": {
    "collapsed": true
   },
   "outputs": [],
   "source": []
  },
  {
   "cell_type": "markdown",
   "metadata": {},
   "source": [
    "### Kmeans++ intialization"
   ]
  },
  {
   "cell_type": "markdown",
   "metadata": {},
   "source": [
    "### Kmeans|| Intialization"
   ]
  },
  {
   "cell_type": "markdown",
   "metadata": {},
   "source": [
    "### Evaluation\n",
    "#### Clustering Cost\n",
    "#### Misclassification Rate"
   ]
  },
  {
   "cell_type": "markdown",
   "metadata": {},
   "source": [
    "### Learning Curves\n",
    "#### V/S different K\n",
    "#### Different Data sets"
   ]
  },
  {
   "cell_type": "code",
   "execution_count": null,
   "metadata": {
    "collapsed": true
   },
   "outputs": [],
   "source": []
  }
 ],
 "metadata": {
  "kernelspec": {
   "display_name": "Python 3",
   "language": "python",
   "name": "python3"
  },
  "language_info": {
   "codemirror_mode": {
    "name": "ipython",
    "version": 3
   },
   "file_extension": ".py",
   "mimetype": "text/x-python",
   "name": "python",
   "nbconvert_exporter": "python",
   "pygments_lexer": "ipython3",
   "version": "3.6.2"
  }
 },
 "nbformat": 4,
 "nbformat_minor": 2
}
