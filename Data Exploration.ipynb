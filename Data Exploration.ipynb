{
 "cells": [
  {
   "cell_type": "code",
   "execution_count": 79,
   "metadata": {},
   "outputs": [
    {
     "name": "stdout",
     "output_type": "stream",
     "text": [
      "(138, 182)\n"
     ]
    }
   ],
   "source": [
    "from PIL import Image\n",
    "from keras.preprocessing import image\n",
    "from keras.engine import  Model\n",
    "from keras.layers import Flatten, Dense, Input\n",
    "import matplotlib.pyplot as plt\n",
    "from keras_vggface.vggface import VGGFace\n",
    "from sklearn.model_selection import train_test_split\n",
    "import numpy as np\n",
    "import glob\n",
    "import pandas as pd\n",
    "import csv\n",
    "\n",
    "path = 'img_2102.bmp'\n",
    "img = Image.open('Release/Data/Images/' + path ).convert('L')\n",
    "max_edge = max(img.size[0], img.size[1])\n",
    "print(img.size)\n",
    "image_sum = img.size[0] + img.size[1]\n",
    "black = Image.new('L',(max_edge, max_edge),0)\n",
    "crop_img = [int(max_edge/2 - img.size[0]/2) , int(max_edge/2 - img.size[1]/2),\n",
    "            int(max_edge/2 + (img.size[0]+1)/2) ,int(max_edge/2 + (img.size[1]+1)/2)]\n",
    "\n",
    "\n",
    "if (image_sum + crop_img[0]+crop_img[1] != crop_img[2] +crop_img[3]):\n",
    "    if (crop_img[0] == 0):\n",
    "        black.paste(img, [crop_img[0],crop_img[1]+1, crop_img[2],crop_img[3]])\n",
    "    else:\n",
    "        black.paste(img, [crop_img[0]+1,crop_img[1], crop_img[2],crop_img[3]])\n",
    "else:\n",
    "    black.paste(img, [crop_img[0],crop_img[1], crop_img[2],crop_img[3]])\n",
    "\n",
    "    img = black.resize((224,224))\n",
    "img = np.array(img).astype(np.float32)\n",
    "\n",
    "img -= np.mean(img)\n",
    "imag /= np.std(img )\n",
    "\n",
    "\n"
   ]
  },
  {
   "cell_type": "code",
   "execution_count": null,
   "metadata": {
    "collapsed": true
   },
   "outputs": [],
   "source": [
    "(380, 366)\n",
    "[0, 7, 380, 373]"
   ]
  },
  {
   "cell_type": "code",
   "execution_count": 52,
   "metadata": {},
   "outputs": [],
   "source": [
    "bmi_file = pd.read_csv(\"Release\\Data\\data.csv\")\n",
    "bmi_file['id'] = bmi_file.index\n",
    "bmi = bmi_file['bmi']\n",
    "\n",
    "i = 0\n",
    "X_train_key = []\n",
    "X_test_key  =[]\n",
    "for index, row in bmi_file.iterrows():\n",
    "    #print(row)\n",
    "    t = row['name']\n",
    "    if row['is_training'] == 1:\n",
    "        \n",
    "        X_train_key.append(t)\n",
    "    else:\n",
    "        X_test_key.append(t)"
   ]
  },
  {
   "cell_type": "code",
   "execution_count": 81,
   "metadata": {},
   "outputs": [
    {
     "data": {
      "text/plain": [
       "['img_0.bmp', 'img_1.bmp', 'img_2.bmp', 'img_3.bmp']"
      ]
     },
     "execution_count": 81,
     "metadata": {},
     "output_type": "execute_result"
    }
   ],
   "source": [
    "len(X_train_key[:4])"
   ]
  },
  {
   "cell_type": "code",
   "execution_count": 53,
   "metadata": {},
   "outputs": [
    {
     "name": "stdout",
     "output_type": "stream",
     "text": [
      "(224, 224)\n"
     ]
    }
   ],
   "source": [
    "def get_data_by_id(path,bmi_file):\n",
    "    \n",
    "    img = Image.open('Release/Data/Images/' + path ).convert('L')\n",
    "    #print(img)\n",
    "    try:\n",
    "        max_edge = max(img.size[0], img.size[1])\n",
    "        black = Image.new('L',(max_edge, max_edge),0)\n",
    "        black.paste(img, [int(max_edge/2 - img.size[0]/2),int(max_edge/2 - img.size[1]/2),\n",
    "                            int(max_edge/2 + (img.size[0]+1)/2),\n",
    "                            int(max_edge/2 + (img.size[1]+1)/2)] )\n",
    "\n",
    "        img = black.resize((224,224))\n",
    "        img = np.array(img).astype(np.float32)\n",
    "\n",
    "        img -= np.mean(img)\n",
    "        img /= np.std(img )\n",
    "\n",
    "        \n",
    "    except ValueError:\n",
    "        print('error')\n",
    "        img = Image.open('Release/Data/Images/' + path ).convert('L')\n",
    "        img = img.resize((224,224))\n",
    "        img = np.array(img).astype(np.float32)\n",
    "        img -= np.mean(img)\n",
    "        img /= np.std(img )\n",
    "    #print(path)\n",
    "    bmi = bmi_file[bmi_file['name'] == path]['bmi']\n",
    "    #print (type(bmi))\n",
    "    return img, bmi\n",
    "image, bmi = get_data_by_id(path,bmi_file)\n",
    "print(image.shape)"
   ]
  },
  {
   "cell_type": "code",
   "execution_count": 54,
   "metadata": {},
   "outputs": [
    {
     "name": "stdout",
     "output_type": "stream",
     "text": [
      "(1, 224, 224, 3)\n"
     ]
    }
   ],
   "source": [
    "id_list = ['0'] #list of id's\n",
    "size = len(id_list)\n",
    "image_batch = np.zeros((size,224,224,3))\n",
    "bmi_batch = np.zeros((size))\n",
    "\n",
    "for i in range(size):\n",
    "    image = img\n",
    "    bmi = 50\n",
    "    image_batch[i,:,:,0] = image\n",
    "    image_batch[i,:,:,1] = image\n",
    "    image_batch[i,:,:,2] = image\n",
    "    bmi_batch[i] = bmi\n",
    "\n",
    "plt.imshow(image_batch[0,:,:,0], cmap = 'Greys_r')\n",
    "print (image_batch.shape)"
   ]
  },
  {
   "cell_type": "code",
   "execution_count": 8,
   "metadata": {},
   "outputs": [
    {
     "name": "stdout",
     "output_type": "stream",
     "text": [
      "(1, 224, 224, 3)\n"
     ]
    }
   ],
   "source": [
    "base_model = VGG16(weights='imagenet')\n",
    "model = Model(inputs=base_model.input, outputs=base_model.get_layer('fc1').output)\n",
    "\n",
    "X_train_key = ['0']\n",
    "#X_test_key = ['232','233']\n",
    "train_embeddings = np.zeros((len(X_train_key), 4096))\n",
    "train_bmis = np.zeros((len(X_train_key)))\n",
    "\n",
    "for i,key in enumerate(X_train_key):\n",
    "    imag = image_batch\n",
    "    x = np.expand_dims(imag, axis=0)\n",
    "    x = preprocess_input(imag)\n",
    "    print(x.shape)\n",
    "    fc6_pool_features = model.predict(x)\n",
    "    train_embeddings[i] = fc6_pool_features.flatten()\n",
    "    train_bmis[i] = bmi_batch\n"
   ]
  },
  {
   "cell_type": "code",
   "execution_count": 12,
   "metadata": {},
   "outputs": [
    {
     "data": {
      "text/plain": [
       "array([ 0.        ,  1.36069763,  0.        , ...,  0.        ,\n",
       "        1.14239836,  0.62497115])"
      ]
     },
     "execution_count": 12,
     "metadata": {},
     "output_type": "execute_result"
    }
   ],
   "source": [
    "train_embeddings[0]"
   ]
  },
  {
   "cell_type": "code",
   "execution_count": 4,
   "metadata": {
    "collapsed": true
   },
   "outputs": [],
   "source": [
    "bmi_file = pd.read_csv(\"Release\\Data\\data.csv\")\n",
    "bmi_file = bmi_file.head(10)\n",
    "\n",
    "bmi_file['id'] = bmi_file.index\n",
    "bmi_file = bmi_file.drop('Unnamed: 0',axis = 1)\n",
    "bmi = bmi_file['bmi']\n"
   ]
  },
  {
   "cell_type": "code",
   "execution_count": 5,
   "metadata": {},
   "outputs": [
    {
     "data": {
      "text/html": [
       "<div>\n",
       "<style>\n",
       "    .dataframe thead tr:only-child th {\n",
       "        text-align: right;\n",
       "    }\n",
       "\n",
       "    .dataframe thead th {\n",
       "        text-align: left;\n",
       "    }\n",
       "\n",
       "    .dataframe tbody tr th {\n",
       "        vertical-align: top;\n",
       "    }\n",
       "</style>\n",
       "<table border=\"1\" class=\"dataframe\">\n",
       "  <thead>\n",
       "    <tr style=\"text-align: right;\">\n",
       "      <th></th>\n",
       "      <th>bmi</th>\n",
       "      <th>gender</th>\n",
       "      <th>is_training</th>\n",
       "      <th>name</th>\n",
       "      <th>id</th>\n",
       "    </tr>\n",
       "  </thead>\n",
       "  <tbody>\n",
       "    <tr>\n",
       "      <th>0</th>\n",
       "      <td>34.207396</td>\n",
       "      <td>Male</td>\n",
       "      <td>1</td>\n",
       "      <td>img_0.bmp</td>\n",
       "      <td>0</td>\n",
       "    </tr>\n",
       "    <tr>\n",
       "      <th>1</th>\n",
       "      <td>26.453720</td>\n",
       "      <td>Male</td>\n",
       "      <td>1</td>\n",
       "      <td>img_1.bmp</td>\n",
       "      <td>1</td>\n",
       "    </tr>\n",
       "    <tr>\n",
       "      <th>2</th>\n",
       "      <td>34.967561</td>\n",
       "      <td>Female</td>\n",
       "      <td>1</td>\n",
       "      <td>img_2.bmp</td>\n",
       "      <td>2</td>\n",
       "    </tr>\n",
       "    <tr>\n",
       "      <th>3</th>\n",
       "      <td>22.044766</td>\n",
       "      <td>Female</td>\n",
       "      <td>1</td>\n",
       "      <td>img_3.bmp</td>\n",
       "      <td>3</td>\n",
       "    </tr>\n",
       "    <tr>\n",
       "      <th>4</th>\n",
       "      <td>37.758789</td>\n",
       "      <td>Female</td>\n",
       "      <td>1</td>\n",
       "      <td>img_4.bmp</td>\n",
       "      <td>4</td>\n",
       "    </tr>\n",
       "    <tr>\n",
       "      <th>5</th>\n",
       "      <td>24.886475</td>\n",
       "      <td>Female</td>\n",
       "      <td>1</td>\n",
       "      <td>img_5.bmp</td>\n",
       "      <td>5</td>\n",
       "    </tr>\n",
       "    <tr>\n",
       "      <th>6</th>\n",
       "      <td>25.845588</td>\n",
       "      <td>Female</td>\n",
       "      <td>1</td>\n",
       "      <td>img_6.bmp</td>\n",
       "      <td>6</td>\n",
       "    </tr>\n",
       "    <tr>\n",
       "      <th>7</th>\n",
       "      <td>21.740701</td>\n",
       "      <td>Female</td>\n",
       "      <td>1</td>\n",
       "      <td>img_7.bmp</td>\n",
       "      <td>7</td>\n",
       "    </tr>\n",
       "    <tr>\n",
       "      <th>8</th>\n",
       "      <td>30.615858</td>\n",
       "      <td>Female</td>\n",
       "      <td>1</td>\n",
       "      <td>img_8.bmp</td>\n",
       "      <td>8</td>\n",
       "    </tr>\n",
       "    <tr>\n",
       "      <th>9</th>\n",
       "      <td>26.788876</td>\n",
       "      <td>Female</td>\n",
       "      <td>1</td>\n",
       "      <td>img_9.bmp</td>\n",
       "      <td>9</td>\n",
       "    </tr>\n",
       "  </tbody>\n",
       "</table>\n",
       "</div>"
      ],
      "text/plain": [
       "         bmi  gender  is_training       name  id\n",
       "0  34.207396    Male            1  img_0.bmp   0\n",
       "1  26.453720    Male            1  img_1.bmp   1\n",
       "2  34.967561  Female            1  img_2.bmp   2\n",
       "3  22.044766  Female            1  img_3.bmp   3\n",
       "4  37.758789  Female            1  img_4.bmp   4\n",
       "5  24.886475  Female            1  img_5.bmp   5\n",
       "6  25.845588  Female            1  img_6.bmp   6\n",
       "7  21.740701  Female            1  img_7.bmp   7\n",
       "8  30.615858  Female            1  img_8.bmp   8\n",
       "9  26.788876  Female            1  img_9.bmp   9"
      ]
     },
     "execution_count": 5,
     "metadata": {},
     "output_type": "execute_result"
    }
   ],
   "source": [
    "bmi_file"
   ]
  },
  {
   "cell_type": "code",
   "execution_count": null,
   "metadata": {
    "collapsed": true
   },
   "outputs": [],
   "source": []
  }
 ],
 "metadata": {
  "kernelspec": {
   "display_name": "Python 3",
   "language": "python",
   "name": "python3"
  },
  "language_info": {
   "codemirror_mode": {
    "name": "ipython",
    "version": 3
   },
   "file_extension": ".py",
   "mimetype": "text/x-python",
   "name": "python",
   "nbconvert_exporter": "python",
   "pygments_lexer": "ipython3",
   "version": "3.6.2"
  }
 },
 "nbformat": 4,
 "nbformat_minor": 2
}
